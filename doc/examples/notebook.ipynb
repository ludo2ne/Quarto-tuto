{
  "cells": [
    {
      "cell_type": "markdown",
      "metadata": {},
      "source": [
        "# Notebook\n",
        "\n",
        "## Before you start\n",
        "\n",
        "-   [ ] Download this\n",
        "    <a href=\"notebook.ipynb\" target=\"_blank\">Jupyter Notebook</a>\n",
        "\n",
        "## 1 Introduction\n",
        "\n",
        "``` python\n",
        "# a python cell that will not be executed\n",
        "```"
      ],
      "id": "29745896-d33b-4ff5-a33d-7ea64c910a5c"
    },
    {
      "cell_type": "code",
      "execution_count": 1,
      "metadata": {},
      "outputs": [],
      "source": [
        "# a python cell to be executed if eval: true"
      ],
      "id": "a6a48109"
    }
  ],
  "nbformat": 4,
  "nbformat_minor": 5,
  "metadata": {
    "kernelspec": {
      "name": "python3",
      "display_name": "Python 3 (ipykernel)",
      "language": "python"
    },
    "language_info": {
      "name": "python",
      "codemirror_mode": {
        "name": "ipython",
        "version": "3"
      },
      "file_extension": ".py",
      "mimetype": "text/x-python",
      "nbconvert_exporter": "python",
      "pygments_lexer": "ipython3",
      "version": "3.10.13"
    }
  }
}